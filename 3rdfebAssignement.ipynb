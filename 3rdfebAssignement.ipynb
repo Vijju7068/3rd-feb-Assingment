{
 "cells": [
  {
   "cell_type": "markdown",
   "id": "acb78146-4f25-4b43-9726-ed11bf48fa70",
   "metadata": {},
   "source": [
    "# Q1. Which keyword is used to create a function? Create a function to return a list of odd numbers in the\n",
    "# range of 1 to 25."
   ]
  },
  {
   "cell_type": "markdown",
   "id": "d14b3289-50d1-41cf-be31-e3b1471efa89",
   "metadata": {},
   "source": [
    "# #Ans \n",
    "# Def Keyword is used to create a function"
   ]
  },
  {
   "cell_type": "code",
   "execution_count": 13,
   "id": "7b6722e6-0246-4ee4-9d55-332b8f84e20b",
   "metadata": {},
   "outputs": [
    {
     "name": "stdout",
     "output_type": "stream",
     "text": [
      "[1, 3, 5, 7, 9, 11, 13, 15, 17, 19, 21, 23, 25]\n"
     ]
    }
   ],
   "source": [
    "def odd_number():\n",
    "    odd_num= []\n",
    "    for i in range(1,26):\n",
    "        if i % 2 != 0:\n",
    "            odd_num.append(i)\n",
    "    return odd_num\n",
    "\n",
    "print(odd_number())"
   ]
  },
  {
   "cell_type": "markdown",
   "id": "24648de6-ea32-4ed7-94b7-7788712f5810",
   "metadata": {},
   "source": [
    "# Q2. Why *args and **kwargs is used in some functions? Create a function each for *args and **kwargs\n",
    "# to demonstrate their use."
   ]
  },
  {
   "cell_type": "code",
   "execution_count": 23,
   "id": "bbe02035-4396-45a7-92b0-747ce704ff47",
   "metadata": {},
   "outputs": [
    {
     "name": "stdout",
     "output_type": "stream",
     "text": [
      "14\n",
      "130\n"
     ]
    }
   ],
   "source": [
    "# *args is use to pass a variable-length list of arguments to a function. It allows you to pass any number of arguments to a function by using the (*) before the parameter name. \n",
    "# The argument are packed into tuple that can be accessed with the function.\n",
    "\n",
    "# **kwargs is used to pass a variable-length dictionary of arguments to a function. It allows you to pass any number of arguments to a function by using the (**) before the parameter name. \n",
    "# The argument are packed into dictionary that can be accessed with the function.\n",
    "\n",
    "\n",
    "#example of *args\n",
    "\n",
    "def add_number(*args):\n",
    "    total = 0\n",
    "    for arg in args:\n",
    "        total = total + arg\n",
    "    return total\n",
    "    \n",
    "    \n",
    "print(add_number(1,2,3,8))\n",
    "print(add_number(5,6,7,8,99,3,2))"
   ]
  },
  {
   "cell_type": "code",
   "execution_count": 25,
   "id": "4ae34909-b3bf-4ebe-98ab-026a59ad66ba",
   "metadata": {},
   "outputs": [
    {
     "name": "stdout",
     "output_type": "stream",
     "text": [
      "name :Vijendra\n",
      "age :25\n",
      "city :Azamgarh\n"
     ]
    }
   ],
   "source": [
    "def itemms(**kwargs):\n",
    "    for key , value in kwargs.items():\n",
    "        print(f\"{key} :{value}\")\n",
    "        \n",
    "itemms(name = \"Vijendra\", age = 25, city =\"Azamgarh\")"
   ]
  },
  {
   "cell_type": "markdown",
   "id": "e79ec552-b159-4817-aa8b-636188840909",
   "metadata": {},
   "source": [
    "# Q3. What is an iterator in python? Name the method used to initialise the iterator object and the method\n",
    "# used for iteration. Use these methods to print the first five elements of the given list [2, 4, 6, 8, 10, 12, 14,\n",
    "# 16, 18, 20]."
   ]
  },
  {
   "cell_type": "code",
   "execution_count": null,
   "id": "27c16d7d-ca42-42b6-9583-50924a069648",
   "metadata": {},
   "outputs": [
    {
     "name": "stdout",
     "output_type": "stream",
     "text": [
      "2\n",
      "4\n",
      "6\n",
      "8\n",
      "10\n"
     ]
    }
   ],
   "source": [
    "lst=  [2, 4, 6, 8, 10, 12, 14,16, 18, 20]\n",
    "\n",
    "for i in range(len(lst)):\n",
    "    if i <=4:\n",
    "        print(lst[i])"
   ]
  },
  {
   "cell_type": "markdown",
   "id": "704d08e2-4bc0-4386-9b96-b23996b40717",
   "metadata": {},
   "source": [
    "# Q4. What is a generator function in python? Why yield keyword is used? Give an example of a generator\n",
    "# function."
   ]
  },
  {
   "cell_type": "code",
   "execution_count": 1,
   "id": "20eeddf9-d9a6-481c-b95e-7c78fdf63e29",
   "metadata": {},
   "outputs": [
    {
     "data": {
      "text/plain": [
       "'In Python, a generator function is a special kind of function that can generate a sequence of values using the\\n\"yield\" keyword. Instead of returning a value and terminating, a generator function can pause execution and save \\nits current state, allowing it to resume execution later and continue generating values. This makes generator functions\\nuseful for generating large sequences of values that can\\'t be easily stored in memory all at once.\\n\\nThe \"yield\" keyword is used in a generator function to indicate where the function should pause and return a value to \\nthe caller. When the function is called again, it resumes execution from where it left off, and continues generating\\nvalues until it either reaches the end of the sequence or encounters a \"return\" statement.'"
      ]
     },
     "execution_count": 1,
     "metadata": {},
     "output_type": "execute_result"
    }
   ],
   "source": [
    "\"\"\"In Python, a generator function is a special kind of function that can generate a sequence of values using the\n",
    "\"yield\" keyword. Instead of returning a value and terminating, a generator function can pause execution and save \n",
    "its current state, allowing it to resume execution later and continue generating values. This makes generator functions\n",
    "useful for generating large sequences of values that can't be easily stored in memory all at once.\n",
    "\n",
    "The \"yield\" keyword is used in a generator function to indicate where the function should pause and return a value to \n",
    "the caller. When the function is called again, it resumes execution from where it left off, and continues generating\n",
    "values until it either reaches the end of the sequence or encounters a \"return\" statement.\"\"\"\n"
   ]
  },
  {
   "cell_type": "code",
   "execution_count": 2,
   "id": "03e75156-b011-49a6-b893-e05ec8c83570",
   "metadata": {},
   "outputs": [
    {
     "data": {
      "text/plain": [
       "0"
      ]
     },
     "execution_count": 2,
     "metadata": {},
     "output_type": "execute_result"
    }
   ],
   "source": [
    "def even_num(n):\n",
    "    for i in range(20):\n",
    "        if i %2 == 0:\n",
    "            yield i\n",
    "            \n",
    "numm = even_num(5)\n",
    "next(numm)\n"
   ]
  },
  {
   "cell_type": "code",
   "execution_count": 3,
   "id": "0903d406-4971-4498-ac87-f5b60b30cab9",
   "metadata": {},
   "outputs": [
    {
     "data": {
      "text/plain": [
       "2"
      ]
     },
     "execution_count": 3,
     "metadata": {},
     "output_type": "execute_result"
    }
   ],
   "source": [
    "next(numm)"
   ]
  },
  {
   "cell_type": "code",
   "execution_count": 4,
   "id": "471b1eba-a1e2-4488-b5bd-76edafe9584f",
   "metadata": {},
   "outputs": [
    {
     "data": {
      "text/plain": [
       "4"
      ]
     },
     "execution_count": 4,
     "metadata": {},
     "output_type": "execute_result"
    }
   ],
   "source": [
    "next(numm)"
   ]
  },
  {
   "cell_type": "code",
   "execution_count": 5,
   "id": "c7eecc53-fd9c-44af-b410-3aff02a02d56",
   "metadata": {},
   "outputs": [
    {
     "data": {
      "text/plain": [
       "6"
      ]
     },
     "execution_count": 5,
     "metadata": {},
     "output_type": "execute_result"
    }
   ],
   "source": [
    "next(numm)"
   ]
  },
  {
   "cell_type": "code",
   "execution_count": 6,
   "id": "ed2bdde1-fc1e-491c-840f-ae5663fdc996",
   "metadata": {},
   "outputs": [
    {
     "data": {
      "text/plain": [
       "8"
      ]
     },
     "execution_count": 6,
     "metadata": {},
     "output_type": "execute_result"
    }
   ],
   "source": [
    "next(numm)"
   ]
  },
  {
   "cell_type": "code",
   "execution_count": 7,
   "id": "f671a334-5155-4d05-8ce2-0da96e0f0ea5",
   "metadata": {},
   "outputs": [
    {
     "data": {
      "text/plain": [
       "10"
      ]
     },
     "execution_count": 7,
     "metadata": {},
     "output_type": "execute_result"
    }
   ],
   "source": [
    "next(numm)"
   ]
  },
  {
   "cell_type": "code",
   "execution_count": 8,
   "id": "f8e3982f-e882-4b2e-ad02-463b20f4eb50",
   "metadata": {},
   "outputs": [
    {
     "data": {
      "text/plain": [
       "12"
      ]
     },
     "execution_count": 8,
     "metadata": {},
     "output_type": "execute_result"
    }
   ],
   "source": [
    "next(numm)"
   ]
  },
  {
   "cell_type": "markdown",
   "id": "bf29d83d-4e4b-4dcd-ac4d-2f0fe61c4cb4",
   "metadata": {},
   "source": [
    "# Q5. Create a generator function for prime numbers less than 1000. Use the next() method to print the\n",
    "# first 20 prime numbers."
   ]
  },
  {
   "cell_type": "code",
   "execution_count": 9,
   "id": "37d0d7d7-a793-4dbc-947f-8741e02582b0",
   "metadata": {},
   "outputs": [
    {
     "data": {
      "text/plain": [
       "1"
      ]
     },
     "execution_count": 9,
     "metadata": {},
     "output_type": "execute_result"
    }
   ],
   "source": [
    "def prime_num():\n",
    "    for i in range(1,1001):\n",
    "        if i%2 != 0 :\n",
    "            yield i\n",
    "            \n",
    "            \n",
    "v = prime_num()\n",
    "next(v)"
   ]
  },
  {
   "cell_type": "code",
   "execution_count": 10,
   "id": "5c74deb6-19e6-4aef-8389-5361b68b26f2",
   "metadata": {},
   "outputs": [
    {
     "data": {
      "text/plain": [
       "3"
      ]
     },
     "execution_count": 10,
     "metadata": {},
     "output_type": "execute_result"
    }
   ],
   "source": [
    "next(v)"
   ]
  },
  {
   "cell_type": "code",
   "execution_count": 11,
   "id": "991c356b-741a-413f-a582-003585d67855",
   "metadata": {},
   "outputs": [
    {
     "data": {
      "text/plain": [
       "5"
      ]
     },
     "execution_count": 11,
     "metadata": {},
     "output_type": "execute_result"
    }
   ],
   "source": [
    "next(v)"
   ]
  },
  {
   "cell_type": "code",
   "execution_count": 12,
   "id": "8978ffc2-785b-45de-96c2-321b017d8dee",
   "metadata": {},
   "outputs": [
    {
     "data": {
      "text/plain": [
       "7"
      ]
     },
     "execution_count": 12,
     "metadata": {},
     "output_type": "execute_result"
    }
   ],
   "source": [
    "next(v)"
   ]
  },
  {
   "cell_type": "code",
   "execution_count": 13,
   "id": "c613c050-8989-4db3-925a-871b46670e85",
   "metadata": {},
   "outputs": [
    {
     "data": {
      "text/plain": [
       "9"
      ]
     },
     "execution_count": 13,
     "metadata": {},
     "output_type": "execute_result"
    }
   ],
   "source": [
    "next(v)"
   ]
  },
  {
   "cell_type": "code",
   "execution_count": 14,
   "id": "dce1a31c-9895-4353-9d2d-f892e521691e",
   "metadata": {},
   "outputs": [
    {
     "data": {
      "text/plain": [
       "11"
      ]
     },
     "execution_count": 14,
     "metadata": {},
     "output_type": "execute_result"
    }
   ],
   "source": [
    "next(v)"
   ]
  },
  {
   "cell_type": "code",
   "execution_count": 15,
   "id": "2f02f3cc-832e-4249-bd10-5d34c947ee74",
   "metadata": {},
   "outputs": [
    {
     "data": {
      "text/plain": [
       "13"
      ]
     },
     "execution_count": 15,
     "metadata": {},
     "output_type": "execute_result"
    }
   ],
   "source": [
    "next(v)"
   ]
  },
  {
   "cell_type": "code",
   "execution_count": 16,
   "id": "af7e22c0-0476-4166-9db9-d58a09b0e0a8",
   "metadata": {},
   "outputs": [
    {
     "data": {
      "text/plain": [
       "15"
      ]
     },
     "execution_count": 16,
     "metadata": {},
     "output_type": "execute_result"
    }
   ],
   "source": [
    "next(v)"
   ]
  },
  {
   "cell_type": "code",
   "execution_count": 17,
   "id": "7faba3c1-3510-4250-8445-4555f1b99a6b",
   "metadata": {},
   "outputs": [
    {
     "data": {
      "text/plain": [
       "17"
      ]
     },
     "execution_count": 17,
     "metadata": {},
     "output_type": "execute_result"
    }
   ],
   "source": [
    "next(v)"
   ]
  },
  {
   "cell_type": "code",
   "execution_count": 18,
   "id": "d5109971-3f18-4459-847d-04d844d0ee8f",
   "metadata": {},
   "outputs": [
    {
     "data": {
      "text/plain": [
       "19"
      ]
     },
     "execution_count": 18,
     "metadata": {},
     "output_type": "execute_result"
    }
   ],
   "source": [
    "next(v)"
   ]
  },
  {
   "cell_type": "markdown",
   "id": "7fdadc98-3de6-41bd-b5d4-8f88b0ec65e7",
   "metadata": {},
   "source": [
    "# Q6. Write a python program to print the first 10 Fibonacci numbers using a while loop"
   ]
  },
  {
   "cell_type": "code",
   "execution_count": null,
   "id": "284833b2-1b76-4f28-9845-144e82776a8e",
   "metadata": {},
   "outputs": [],
   "source": [
    "a,b = 0,1\n",
    "num = 0\n",
    "while num <=10:\n",
    "    print(a)\n",
    "    c= a+b\n",
    "    a=b\n",
    "    b=c\n",
    "    num = num+1"
   ]
  },
  {
   "cell_type": "markdown",
   "id": "69f84bca-bbc3-4817-bd85-9218aea702ec",
   "metadata": {},
   "source": [
    "# Q7. Write a List Comprehension to iterate through the given string: ‘pwskills’.\n",
    "# Expected output: ['p', 'w', 's', 'k', 'i', 'l', 'l', 's']"
   ]
  },
  {
   "cell_type": "code",
   "execution_count": null,
   "id": "d7109d91-4ae1-48f6-92f6-20d8b16bf951",
   "metadata": {},
   "outputs": [],
   "source": [
    "stri = \"pwskills\"\n",
    "\n",
    "[i for i in stri]"
   ]
  },
  {
   "cell_type": "markdown",
   "id": "530ab03b-8c34-442b-b6b2-cdaf35a36b74",
   "metadata": {},
   "source": [
    "# Q8. Write a python program to check whether a given number is Palindrome or not using a while loop."
   ]
  },
  {
   "cell_type": "code",
   "execution_count": null,
   "id": "05c858bc-2ecb-4175-9910-76dffadbd0c7",
   "metadata": {},
   "outputs": [],
   "source": [
    "num = int(input(\"Enter a number: \"))\n",
    "temp = num\n",
    "rev = 0\n",
    "while temp > 0:\n",
    "    digit = temp % 10\n",
    "    rev = rev * 10 + digit\n",
    "    temp //= 10\n",
    "if num == rev:\n",
    "    print(num, \"is a palindrome number\")\n",
    "else:\n",
    "    print(num, \"is not a palindrome number\")"
   ]
  },
  {
   "cell_type": "markdown",
   "id": "97956d3e-c0f8-4eb6-b9e7-9cec29a4482a",
   "metadata": {},
   "source": [
    "# Q9. Write a code to print odd numbers from 1 to 100 using list comprehension.\n",
    "# Note: Use a list comprehension to create a list from 1 to 100 and use another List comprehension to filter\n",
    "# out odd numbers."
   ]
  },
  {
   "cell_type": "code",
   "execution_count": null,
   "id": "ae6de692-c5fe-40a2-a55b-723f102714f7",
   "metadata": {},
   "outputs": [],
   "source": [
    "list = [ i for i in range(1,101)]\n",
    "v = [ i for i in list if i % 2 !=0 ]\n",
    "print(v)"
   ]
  }
 ],
 "metadata": {
  "kernelspec": {
   "display_name": "Python 3 (ipykernel)",
   "language": "python",
   "name": "python3"
  },
  "language_info": {
   "codemirror_mode": {
    "name": "ipython",
    "version": 3
   },
   "file_extension": ".py",
   "mimetype": "text/x-python",
   "name": "python",
   "nbconvert_exporter": "python",
   "pygments_lexer": "ipython3",
   "version": "3.10.8"
  }
 },
 "nbformat": 4,
 "nbformat_minor": 5
}
